{
 "cells": [
  {
   "cell_type": "markdown",
   "id": "e2fb4208-4ad4-4f22-ab2e-e69c1e996481",
   "metadata": {},
   "source": [
    "# Customer Segmentation and Purchase Pattern Analysis\n",
    "Objective\n",
    "Analyze customer behavior through both segmentation (using clustering) and purchase pattern analysis (using association rules) to derive meaningful business insights.\n",
    "\n",
    "\n",
    "\n",
    "Dataset Requirements\n",
    "- Download the \"Online Retail\" dataset from UCI Machine Learning Repository or a similar e-commerce dataset from Kaggle\n",
    "\n",
    "- Dataset should contain:\n",
    "\n",
    "  - Customer information for clustering\n",
    "\n",
    "  - Transaction/purchase information for association rule mining"
   ]
  },
  {
   "cell_type": "markdown",
   "id": "e8a46bc9-df19-43ef-aed8-38456ec580bc",
   "metadata": {},
   "source": [
    "## Task 1:- Data Preprocessing (2 marks)\n",
    "\n",
    "   - Load and clean the dataset\n",
    "\n",
    "   - Handle missing values and duplicates\n",
    "\n",
    "   - Perform outlier detection and removal\n",
    "\n",
    "   - Feature scaling/normalization\n",
    "\n",
    "   - Create relevant features for both clustering and association analysis"
   ]
  },
  {
   "cell_type": "markdown",
   "id": "22cc86d2-7eb7-4604-af93-642aec669f04",
   "metadata": {},
   "source": [
    "### (a) Load and clean the dataset"
   ]
  },
  {
   "cell_type": "code",
   "execution_count": 297,
   "id": "07ec4a5a-4f50-4ab6-b560-5d51bf2608ca",
   "metadata": {},
   "outputs": [],
   "source": [
    "# Importing required packages\n",
    "import numpy as np\n",
    "import pandas as pd\n",
    "import warnings as war\n",
    "war.filterwarnings(\"ignore\")"
   ]
  },
  {
   "cell_type": "code",
   "execution_count": 298,
   "id": "a83ca552-4f9a-4609-ac4d-4d92b66b6677",
   "metadata": {},
   "outputs": [],
   "source": [
    "# Defining dataset csv Path\n",
    "dataSetPath=\"C:\\\\Users\\\\ASUS\\\\jupyterworkspace\\\\Assignment & Mini Project\\Module_04_Unsupervised Learning and Association Rule Mining\\\\MiniProject_02\\\\Online Retail.csv\"\n",
    "# Loading dataSet\n",
    "dataSetRead=pd.read_csv(dataSetPath)"
   ]
  },
  {
   "cell_type": "markdown",
   "id": "96b3f8d0-7b37-4853-a74b-82aee32e7838",
   "metadata": {},
   "source": [
    "### Inspect structure"
   ]
  },
  {
   "cell_type": "code",
   "execution_count": 299,
   "id": "cefa589a-e379-4c4c-b110-9eb1e93b1815",
   "metadata": {},
   "outputs": [
    {
     "name": "stdout",
     "output_type": "stream",
     "text": [
      "*****************************************************Displaying below first 5 records**********************************************************\n"
     ]
    },
    {
     "data": {
      "text/html": [
       "<div>\n",
       "<style scoped>\n",
       "    .dataframe tbody tr th:only-of-type {\n",
       "        vertical-align: middle;\n",
       "    }\n",
       "\n",
       "    .dataframe tbody tr th {\n",
       "        vertical-align: top;\n",
       "    }\n",
       "\n",
       "    .dataframe thead th {\n",
       "        text-align: right;\n",
       "    }\n",
       "</style>\n",
       "<table border=\"1\" class=\"dataframe\">\n",
       "  <thead>\n",
       "    <tr style=\"text-align: right;\">\n",
       "      <th></th>\n",
       "      <th>InvoiceNo</th>\n",
       "      <th>StockCode</th>\n",
       "      <th>Description</th>\n",
       "      <th>Quantity</th>\n",
       "      <th>InvoiceDate</th>\n",
       "      <th>UnitPrice</th>\n",
       "      <th>CustomerID</th>\n",
       "      <th>Country</th>\n",
       "    </tr>\n",
       "  </thead>\n",
       "  <tbody>\n",
       "    <tr>\n",
       "      <th>0</th>\n",
       "      <td>536365</td>\n",
       "      <td>85123A</td>\n",
       "      <td>WHITE HANGING HEART T-LIGHT HOLDER</td>\n",
       "      <td>6</td>\n",
       "      <td>01-12-2010 08:26</td>\n",
       "      <td>2.55</td>\n",
       "      <td>17850.0</td>\n",
       "      <td>United Kingdom</td>\n",
       "    </tr>\n",
       "    <tr>\n",
       "      <th>1</th>\n",
       "      <td>536365</td>\n",
       "      <td>71053</td>\n",
       "      <td>WHITE METAL LANTERN</td>\n",
       "      <td>6</td>\n",
       "      <td>01-12-2010 08:26</td>\n",
       "      <td>3.39</td>\n",
       "      <td>17850.0</td>\n",
       "      <td>United Kingdom</td>\n",
       "    </tr>\n",
       "    <tr>\n",
       "      <th>2</th>\n",
       "      <td>536365</td>\n",
       "      <td>84406B</td>\n",
       "      <td>CREAM CUPID HEARTS COAT HANGER</td>\n",
       "      <td>8</td>\n",
       "      <td>01-12-2010 08:26</td>\n",
       "      <td>2.75</td>\n",
       "      <td>17850.0</td>\n",
       "      <td>United Kingdom</td>\n",
       "    </tr>\n",
       "    <tr>\n",
       "      <th>3</th>\n",
       "      <td>536365</td>\n",
       "      <td>84029G</td>\n",
       "      <td>KNITTED UNION FLAG HOT WATER BOTTLE</td>\n",
       "      <td>6</td>\n",
       "      <td>01-12-2010 08:26</td>\n",
       "      <td>3.39</td>\n",
       "      <td>17850.0</td>\n",
       "      <td>United Kingdom</td>\n",
       "    </tr>\n",
       "    <tr>\n",
       "      <th>4</th>\n",
       "      <td>536365</td>\n",
       "      <td>84029E</td>\n",
       "      <td>RED WOOLLY HOTTIE WHITE HEART.</td>\n",
       "      <td>6</td>\n",
       "      <td>01-12-2010 08:26</td>\n",
       "      <td>3.39</td>\n",
       "      <td>17850.0</td>\n",
       "      <td>United Kingdom</td>\n",
       "    </tr>\n",
       "  </tbody>\n",
       "</table>\n",
       "</div>"
      ],
      "text/plain": [
       "  InvoiceNo StockCode                          Description  Quantity  \\\n",
       "0    536365    85123A   WHITE HANGING HEART T-LIGHT HOLDER         6   \n",
       "1    536365     71053                  WHITE METAL LANTERN         6   \n",
       "2    536365    84406B       CREAM CUPID HEARTS COAT HANGER         8   \n",
       "3    536365    84029G  KNITTED UNION FLAG HOT WATER BOTTLE         6   \n",
       "4    536365    84029E       RED WOOLLY HOTTIE WHITE HEART.         6   \n",
       "\n",
       "        InvoiceDate  UnitPrice  CustomerID         Country  \n",
       "0  01-12-2010 08:26       2.55     17850.0  United Kingdom  \n",
       "1  01-12-2010 08:26       3.39     17850.0  United Kingdom  \n",
       "2  01-12-2010 08:26       2.75     17850.0  United Kingdom  \n",
       "3  01-12-2010 08:26       3.39     17850.0  United Kingdom  \n",
       "4  01-12-2010 08:26       3.39     17850.0  United Kingdom  "
      ]
     },
     "execution_count": 299,
     "metadata": {},
     "output_type": "execute_result"
    }
   ],
   "source": [
    "# Displaying first 5 records to confirming data loading\n",
    "print(\"*****************************************************Displaying below first 5 records**********************************************************\")\n",
    "dataSetRead.head()"
   ]
  },
  {
   "cell_type": "code",
   "execution_count": 300,
   "id": "2c1c64d3-d4bf-4ff6-b51f-b357465eaa00",
   "metadata": {},
   "outputs": [
    {
     "name": "stdout",
     "output_type": "stream",
     "text": [
      "*****************************************************Displaying below last 5 records**********************************************************\n"
     ]
    },
    {
     "data": {
      "text/html": [
       "<div>\n",
       "<style scoped>\n",
       "    .dataframe tbody tr th:only-of-type {\n",
       "        vertical-align: middle;\n",
       "    }\n",
       "\n",
       "    .dataframe tbody tr th {\n",
       "        vertical-align: top;\n",
       "    }\n",
       "\n",
       "    .dataframe thead th {\n",
       "        text-align: right;\n",
       "    }\n",
       "</style>\n",
       "<table border=\"1\" class=\"dataframe\">\n",
       "  <thead>\n",
       "    <tr style=\"text-align: right;\">\n",
       "      <th></th>\n",
       "      <th>InvoiceNo</th>\n",
       "      <th>StockCode</th>\n",
       "      <th>Description</th>\n",
       "      <th>Quantity</th>\n",
       "      <th>InvoiceDate</th>\n",
       "      <th>UnitPrice</th>\n",
       "      <th>CustomerID</th>\n",
       "      <th>Country</th>\n",
       "    </tr>\n",
       "  </thead>\n",
       "  <tbody>\n",
       "    <tr>\n",
       "      <th>541904</th>\n",
       "      <td>581587</td>\n",
       "      <td>22613</td>\n",
       "      <td>PACK OF 20 SPACEBOY NAPKINS</td>\n",
       "      <td>12</td>\n",
       "      <td>09-12-2011 12:50</td>\n",
       "      <td>0.85</td>\n",
       "      <td>12680.0</td>\n",
       "      <td>France</td>\n",
       "    </tr>\n",
       "    <tr>\n",
       "      <th>541905</th>\n",
       "      <td>581587</td>\n",
       "      <td>22899</td>\n",
       "      <td>CHILDREN'S APRON DOLLY GIRL</td>\n",
       "      <td>6</td>\n",
       "      <td>09-12-2011 12:50</td>\n",
       "      <td>2.10</td>\n",
       "      <td>12680.0</td>\n",
       "      <td>France</td>\n",
       "    </tr>\n",
       "    <tr>\n",
       "      <th>541906</th>\n",
       "      <td>581587</td>\n",
       "      <td>23254</td>\n",
       "      <td>CHILDRENS CUTLERY DOLLY GIRL</td>\n",
       "      <td>4</td>\n",
       "      <td>09-12-2011 12:50</td>\n",
       "      <td>4.15</td>\n",
       "      <td>12680.0</td>\n",
       "      <td>France</td>\n",
       "    </tr>\n",
       "    <tr>\n",
       "      <th>541907</th>\n",
       "      <td>581587</td>\n",
       "      <td>23255</td>\n",
       "      <td>CHILDRENS CUTLERY CIRCUS PARADE</td>\n",
       "      <td>4</td>\n",
       "      <td>09-12-2011 12:50</td>\n",
       "      <td>4.15</td>\n",
       "      <td>12680.0</td>\n",
       "      <td>France</td>\n",
       "    </tr>\n",
       "    <tr>\n",
       "      <th>541908</th>\n",
       "      <td>581587</td>\n",
       "      <td>22138</td>\n",
       "      <td>BAKING SET 9 PIECE RETROSPOT</td>\n",
       "      <td>3</td>\n",
       "      <td>09-12-2011 12:50</td>\n",
       "      <td>4.95</td>\n",
       "      <td>12680.0</td>\n",
       "      <td>France</td>\n",
       "    </tr>\n",
       "  </tbody>\n",
       "</table>\n",
       "</div>"
      ],
      "text/plain": [
       "       InvoiceNo StockCode                      Description  Quantity  \\\n",
       "541904    581587     22613      PACK OF 20 SPACEBOY NAPKINS        12   \n",
       "541905    581587     22899     CHILDREN'S APRON DOLLY GIRL          6   \n",
       "541906    581587     23254    CHILDRENS CUTLERY DOLLY GIRL          4   \n",
       "541907    581587     23255  CHILDRENS CUTLERY CIRCUS PARADE         4   \n",
       "541908    581587     22138    BAKING SET 9 PIECE RETROSPOT          3   \n",
       "\n",
       "             InvoiceDate  UnitPrice  CustomerID Country  \n",
       "541904  09-12-2011 12:50       0.85     12680.0  France  \n",
       "541905  09-12-2011 12:50       2.10     12680.0  France  \n",
       "541906  09-12-2011 12:50       4.15     12680.0  France  \n",
       "541907  09-12-2011 12:50       4.15     12680.0  France  \n",
       "541908  09-12-2011 12:50       4.95     12680.0  France  "
      ]
     },
     "execution_count": 300,
     "metadata": {},
     "output_type": "execute_result"
    }
   ],
   "source": [
    "# Displaying last 5 records to confirming data loading\n",
    "print(\"*****************************************************Displaying below last 5 records**********************************************************\")\n",
    "dataSetRead.tail()"
   ]
  },
  {
   "cell_type": "code",
   "execution_count": 301,
   "id": "df593fb6-9e06-4522-8dea-da863c06969a",
   "metadata": {},
   "outputs": [
    {
     "name": "stdout",
     "output_type": "stream",
     "text": [
      "*****************************************************Displaying below all records**********************************************************\n"
     ]
    },
    {
     "data": {
      "text/html": [
       "<div>\n",
       "<style scoped>\n",
       "    .dataframe tbody tr th:only-of-type {\n",
       "        vertical-align: middle;\n",
       "    }\n",
       "\n",
       "    .dataframe tbody tr th {\n",
       "        vertical-align: top;\n",
       "    }\n",
       "\n",
       "    .dataframe thead th {\n",
       "        text-align: right;\n",
       "    }\n",
       "</style>\n",
       "<table border=\"1\" class=\"dataframe\">\n",
       "  <thead>\n",
       "    <tr style=\"text-align: right;\">\n",
       "      <th></th>\n",
       "      <th>InvoiceNo</th>\n",
       "      <th>StockCode</th>\n",
       "      <th>Description</th>\n",
       "      <th>Quantity</th>\n",
       "      <th>InvoiceDate</th>\n",
       "      <th>UnitPrice</th>\n",
       "      <th>CustomerID</th>\n",
       "      <th>Country</th>\n",
       "    </tr>\n",
       "  </thead>\n",
       "  <tbody>\n",
       "    <tr>\n",
       "      <th>0</th>\n",
       "      <td>536365</td>\n",
       "      <td>85123A</td>\n",
       "      <td>WHITE HANGING HEART T-LIGHT HOLDER</td>\n",
       "      <td>6</td>\n",
       "      <td>01-12-2010 08:26</td>\n",
       "      <td>2.55</td>\n",
       "      <td>17850.0</td>\n",
       "      <td>United Kingdom</td>\n",
       "    </tr>\n",
       "    <tr>\n",
       "      <th>1</th>\n",
       "      <td>536365</td>\n",
       "      <td>71053</td>\n",
       "      <td>WHITE METAL LANTERN</td>\n",
       "      <td>6</td>\n",
       "      <td>01-12-2010 08:26</td>\n",
       "      <td>3.39</td>\n",
       "      <td>17850.0</td>\n",
       "      <td>United Kingdom</td>\n",
       "    </tr>\n",
       "    <tr>\n",
       "      <th>2</th>\n",
       "      <td>536365</td>\n",
       "      <td>84406B</td>\n",
       "      <td>CREAM CUPID HEARTS COAT HANGER</td>\n",
       "      <td>8</td>\n",
       "      <td>01-12-2010 08:26</td>\n",
       "      <td>2.75</td>\n",
       "      <td>17850.0</td>\n",
       "      <td>United Kingdom</td>\n",
       "    </tr>\n",
       "    <tr>\n",
       "      <th>3</th>\n",
       "      <td>536365</td>\n",
       "      <td>84029G</td>\n",
       "      <td>KNITTED UNION FLAG HOT WATER BOTTLE</td>\n",
       "      <td>6</td>\n",
       "      <td>01-12-2010 08:26</td>\n",
       "      <td>3.39</td>\n",
       "      <td>17850.0</td>\n",
       "      <td>United Kingdom</td>\n",
       "    </tr>\n",
       "    <tr>\n",
       "      <th>4</th>\n",
       "      <td>536365</td>\n",
       "      <td>84029E</td>\n",
       "      <td>RED WOOLLY HOTTIE WHITE HEART.</td>\n",
       "      <td>6</td>\n",
       "      <td>01-12-2010 08:26</td>\n",
       "      <td>3.39</td>\n",
       "      <td>17850.0</td>\n",
       "      <td>United Kingdom</td>\n",
       "    </tr>\n",
       "    <tr>\n",
       "      <th>...</th>\n",
       "      <td>...</td>\n",
       "      <td>...</td>\n",
       "      <td>...</td>\n",
       "      <td>...</td>\n",
       "      <td>...</td>\n",
       "      <td>...</td>\n",
       "      <td>...</td>\n",
       "      <td>...</td>\n",
       "    </tr>\n",
       "    <tr>\n",
       "      <th>541904</th>\n",
       "      <td>581587</td>\n",
       "      <td>22613</td>\n",
       "      <td>PACK OF 20 SPACEBOY NAPKINS</td>\n",
       "      <td>12</td>\n",
       "      <td>09-12-2011 12:50</td>\n",
       "      <td>0.85</td>\n",
       "      <td>12680.0</td>\n",
       "      <td>France</td>\n",
       "    </tr>\n",
       "    <tr>\n",
       "      <th>541905</th>\n",
       "      <td>581587</td>\n",
       "      <td>22899</td>\n",
       "      <td>CHILDREN'S APRON DOLLY GIRL</td>\n",
       "      <td>6</td>\n",
       "      <td>09-12-2011 12:50</td>\n",
       "      <td>2.10</td>\n",
       "      <td>12680.0</td>\n",
       "      <td>France</td>\n",
       "    </tr>\n",
       "    <tr>\n",
       "      <th>541906</th>\n",
       "      <td>581587</td>\n",
       "      <td>23254</td>\n",
       "      <td>CHILDRENS CUTLERY DOLLY GIRL</td>\n",
       "      <td>4</td>\n",
       "      <td>09-12-2011 12:50</td>\n",
       "      <td>4.15</td>\n",
       "      <td>12680.0</td>\n",
       "      <td>France</td>\n",
       "    </tr>\n",
       "    <tr>\n",
       "      <th>541907</th>\n",
       "      <td>581587</td>\n",
       "      <td>23255</td>\n",
       "      <td>CHILDRENS CUTLERY CIRCUS PARADE</td>\n",
       "      <td>4</td>\n",
       "      <td>09-12-2011 12:50</td>\n",
       "      <td>4.15</td>\n",
       "      <td>12680.0</td>\n",
       "      <td>France</td>\n",
       "    </tr>\n",
       "    <tr>\n",
       "      <th>541908</th>\n",
       "      <td>581587</td>\n",
       "      <td>22138</td>\n",
       "      <td>BAKING SET 9 PIECE RETROSPOT</td>\n",
       "      <td>3</td>\n",
       "      <td>09-12-2011 12:50</td>\n",
       "      <td>4.95</td>\n",
       "      <td>12680.0</td>\n",
       "      <td>France</td>\n",
       "    </tr>\n",
       "  </tbody>\n",
       "</table>\n",
       "<p>541909 rows × 8 columns</p>\n",
       "</div>"
      ],
      "text/plain": [
       "       InvoiceNo StockCode                          Description  Quantity  \\\n",
       "0         536365    85123A   WHITE HANGING HEART T-LIGHT HOLDER         6   \n",
       "1         536365     71053                  WHITE METAL LANTERN         6   \n",
       "2         536365    84406B       CREAM CUPID HEARTS COAT HANGER         8   \n",
       "3         536365    84029G  KNITTED UNION FLAG HOT WATER BOTTLE         6   \n",
       "4         536365    84029E       RED WOOLLY HOTTIE WHITE HEART.         6   \n",
       "...          ...       ...                                  ...       ...   \n",
       "541904    581587     22613          PACK OF 20 SPACEBOY NAPKINS        12   \n",
       "541905    581587     22899         CHILDREN'S APRON DOLLY GIRL          6   \n",
       "541906    581587     23254        CHILDRENS CUTLERY DOLLY GIRL          4   \n",
       "541907    581587     23255      CHILDRENS CUTLERY CIRCUS PARADE         4   \n",
       "541908    581587     22138        BAKING SET 9 PIECE RETROSPOT          3   \n",
       "\n",
       "             InvoiceDate  UnitPrice  CustomerID         Country  \n",
       "0       01-12-2010 08:26       2.55     17850.0  United Kingdom  \n",
       "1       01-12-2010 08:26       3.39     17850.0  United Kingdom  \n",
       "2       01-12-2010 08:26       2.75     17850.0  United Kingdom  \n",
       "3       01-12-2010 08:26       3.39     17850.0  United Kingdom  \n",
       "4       01-12-2010 08:26       3.39     17850.0  United Kingdom  \n",
       "...                  ...        ...         ...             ...  \n",
       "541904  09-12-2011 12:50       0.85     12680.0          France  \n",
       "541905  09-12-2011 12:50       2.10     12680.0          France  \n",
       "541906  09-12-2011 12:50       4.15     12680.0          France  \n",
       "541907  09-12-2011 12:50       4.15     12680.0          France  \n",
       "541908  09-12-2011 12:50       4.95     12680.0          France  \n",
       "\n",
       "[541909 rows x 8 columns]"
      ]
     },
     "execution_count": 301,
     "metadata": {},
     "output_type": "execute_result"
    }
   ],
   "source": [
    "# Displaying all records to confirming data loading\n",
    "print(\"*****************************************************Displaying below all records**********************************************************\")\n",
    "dataSetRead"
   ]
  },
  {
   "cell_type": "code",
   "execution_count": 302,
   "id": "60a0190a-b4af-4114-ba9c-2649f8c3b2f6",
   "metadata": {},
   "outputs": [
    {
     "name": "stdout",
     "output_type": "stream",
     "text": [
      "Dimention of Dataset:- (541909, 8)\n",
      "Total number of rows in Dataset:- 541909\n",
      "Total number of columns in Dataset:- 8\n"
     ]
    }
   ],
   "source": [
    "# Displaying dimension of dataSet\n",
    "print(\"Dimention of Dataset:- {}\".format(dataSetRead.shape[0:2]))\n",
    "print(\"Total number of rows in Dataset:- {}\".format(dataSetRead.shape[0]))\n",
    "print(\"Total number of columns in Dataset:- {}\".format(dataSetRead.shape[1]))"
   ]
  },
  {
   "cell_type": "code",
   "execution_count": 303,
   "id": "7a17553e-f06f-43de-b0c1-55a0b3f70b8b",
   "metadata": {},
   "outputs": [
    {
     "data": {
      "text/html": [
       "<div>\n",
       "<style scoped>\n",
       "    .dataframe tbody tr th:only-of-type {\n",
       "        vertical-align: middle;\n",
       "    }\n",
       "\n",
       "    .dataframe tbody tr th {\n",
       "        vertical-align: top;\n",
       "    }\n",
       "\n",
       "    .dataframe thead th {\n",
       "        text-align: right;\n",
       "    }\n",
       "</style>\n",
       "<table border=\"1\" class=\"dataframe\">\n",
       "  <thead>\n",
       "    <tr style=\"text-align: right;\">\n",
       "      <th></th>\n",
       "      <th>count</th>\n",
       "      <th>mean</th>\n",
       "      <th>std</th>\n",
       "      <th>min</th>\n",
       "      <th>25%</th>\n",
       "      <th>50%</th>\n",
       "      <th>75%</th>\n",
       "      <th>max</th>\n",
       "    </tr>\n",
       "  </thead>\n",
       "  <tbody>\n",
       "    <tr>\n",
       "      <th>Quantity</th>\n",
       "      <td>541909.0</td>\n",
       "      <td>9.552250</td>\n",
       "      <td>218.081158</td>\n",
       "      <td>-80995.00</td>\n",
       "      <td>1.00</td>\n",
       "      <td>3.00</td>\n",
       "      <td>10.00</td>\n",
       "      <td>80995.0</td>\n",
       "    </tr>\n",
       "    <tr>\n",
       "      <th>UnitPrice</th>\n",
       "      <td>541909.0</td>\n",
       "      <td>4.611114</td>\n",
       "      <td>96.759853</td>\n",
       "      <td>-11062.06</td>\n",
       "      <td>1.25</td>\n",
       "      <td>2.08</td>\n",
       "      <td>4.13</td>\n",
       "      <td>38970.0</td>\n",
       "    </tr>\n",
       "    <tr>\n",
       "      <th>CustomerID</th>\n",
       "      <td>406829.0</td>\n",
       "      <td>15287.690570</td>\n",
       "      <td>1713.600303</td>\n",
       "      <td>12346.00</td>\n",
       "      <td>13953.00</td>\n",
       "      <td>15152.00</td>\n",
       "      <td>16791.00</td>\n",
       "      <td>18287.0</td>\n",
       "    </tr>\n",
       "  </tbody>\n",
       "</table>\n",
       "</div>"
      ],
      "text/plain": [
       "               count          mean          std       min       25%       50%  \\\n",
       "Quantity    541909.0      9.552250   218.081158 -80995.00      1.00      3.00   \n",
       "UnitPrice   541909.0      4.611114    96.759853 -11062.06      1.25      2.08   \n",
       "CustomerID  406829.0  15287.690570  1713.600303  12346.00  13953.00  15152.00   \n",
       "\n",
       "                 75%      max  \n",
       "Quantity       10.00  80995.0  \n",
       "UnitPrice       4.13  38970.0  \n",
       "CustomerID  16791.00  18287.0  "
      ]
     },
     "execution_count": 303,
     "metadata": {},
     "output_type": "execute_result"
    }
   ],
   "source": [
    "# Displaying description & statistcal summary of the dataSet\n",
    "dataSetRead.describe().T"
   ]
  },
  {
   "cell_type": "code",
   "execution_count": 304,
   "id": "2c106868-5bbb-4e1a-86f0-6bb138bee2a2",
   "metadata": {},
   "outputs": [
    {
     "data": {
      "text/html": [
       "<div>\n",
       "<style scoped>\n",
       "    .dataframe tbody tr th:only-of-type {\n",
       "        vertical-align: middle;\n",
       "    }\n",
       "\n",
       "    .dataframe tbody tr th {\n",
       "        vertical-align: top;\n",
       "    }\n",
       "\n",
       "    .dataframe thead th {\n",
       "        text-align: right;\n",
       "    }\n",
       "</style>\n",
       "<table border=\"1\" class=\"dataframe\">\n",
       "  <thead>\n",
       "    <tr style=\"text-align: right;\">\n",
       "      <th></th>\n",
       "      <th>count</th>\n",
       "      <th>unique</th>\n",
       "      <th>top</th>\n",
       "      <th>freq</th>\n",
       "    </tr>\n",
       "  </thead>\n",
       "  <tbody>\n",
       "    <tr>\n",
       "      <th>InvoiceNo</th>\n",
       "      <td>541909</td>\n",
       "      <td>25900</td>\n",
       "      <td>573585</td>\n",
       "      <td>1114</td>\n",
       "    </tr>\n",
       "    <tr>\n",
       "      <th>StockCode</th>\n",
       "      <td>541909</td>\n",
       "      <td>4070</td>\n",
       "      <td>85123A</td>\n",
       "      <td>2313</td>\n",
       "    </tr>\n",
       "    <tr>\n",
       "      <th>Description</th>\n",
       "      <td>540455</td>\n",
       "      <td>4223</td>\n",
       "      <td>WHITE HANGING HEART T-LIGHT HOLDER</td>\n",
       "      <td>2369</td>\n",
       "    </tr>\n",
       "    <tr>\n",
       "      <th>InvoiceDate</th>\n",
       "      <td>541909</td>\n",
       "      <td>23260</td>\n",
       "      <td>31-10-2011 14:41</td>\n",
       "      <td>1114</td>\n",
       "    </tr>\n",
       "    <tr>\n",
       "      <th>Country</th>\n",
       "      <td>541909</td>\n",
       "      <td>38</td>\n",
       "      <td>United Kingdom</td>\n",
       "      <td>495478</td>\n",
       "    </tr>\n",
       "  </tbody>\n",
       "</table>\n",
       "</div>"
      ],
      "text/plain": [
       "              count unique                                 top    freq\n",
       "InvoiceNo    541909  25900                              573585    1114\n",
       "StockCode    541909   4070                              85123A    2313\n",
       "Description  540455   4223  WHITE HANGING HEART T-LIGHT HOLDER    2369\n",
       "InvoiceDate  541909  23260                    31-10-2011 14:41    1114\n",
       "Country      541909     38                      United Kingdom  495478"
      ]
     },
     "execution_count": 304,
     "metadata": {},
     "output_type": "execute_result"
    }
   ],
   "source": [
    "# Displaying description & statistcal summary of the categorical variables\n",
    "dataSetRead.describe(include='object').T"
   ]
  },
  {
   "cell_type": "code",
   "execution_count": 305,
   "id": "81203db5-afc4-4311-851b-f56df5b042d1",
   "metadata": {},
   "outputs": [
    {
     "name": "stdout",
     "output_type": "stream",
     "text": [
      "<class 'pandas.core.frame.DataFrame'>\n",
      "RangeIndex: 541909 entries, 0 to 541908\n",
      "Data columns (total 8 columns):\n",
      " #   Column       Non-Null Count   Dtype  \n",
      "---  ------       --------------   -----  \n",
      " 0   InvoiceNo    541909 non-null  object \n",
      " 1   StockCode    541909 non-null  object \n",
      " 2   Description  540455 non-null  object \n",
      " 3   Quantity     541909 non-null  int64  \n",
      " 4   InvoiceDate  541909 non-null  object \n",
      " 5   UnitPrice    541909 non-null  float64\n",
      " 6   CustomerID   406829 non-null  float64\n",
      " 7   Country      541909 non-null  object \n",
      "dtypes: float64(2), int64(1), object(5)\n",
      "memory usage: 33.1+ MB\n"
     ]
    }
   ],
   "source": [
    "# Displaying the columns and their respective data types\n",
    "dataSetRead.info()"
   ]
  },
  {
   "cell_type": "markdown",
   "id": "f0aa71ab-ef75-410b-bc34-ba1838adc9ca",
   "metadata": {},
   "source": [
    "### (b) Handle missing values and duplicates"
   ]
  },
  {
   "cell_type": "code",
   "execution_count": 306,
   "id": "ce69a660-1cf4-4889-95f8-3c32f51fb2b2",
   "metadata": {},
   "outputs": [
    {
     "name": "stdout",
     "output_type": "stream",
     "text": [
      "InvoiceNo           0\n",
      "StockCode           0\n",
      "Description      1454\n",
      "Quantity            0\n",
      "InvoiceDate         0\n",
      "UnitPrice           0\n",
      "CustomerID     135080\n",
      "Country             0\n",
      "dtype: int64\n"
     ]
    }
   ],
   "source": [
    "# Calculating the number of missing values in each column\n",
    "missingValue_Count=dataSetRead.isnull().sum()\n",
    "print(missingValue_Count)"
   ]
  },
  {
   "cell_type": "code",
   "execution_count": 307,
   "id": "2f48c6b5-7adb-4318-93f3-543501a58541",
   "metadata": {},
   "outputs": [
    {
     "name": "stdout",
     "output_type": "stream",
     "text": [
      "Description      1454\n",
      "CustomerID     135080\n",
      "dtype: int64\n",
      "Below is the list of  missing values attributes:- \n",
      "Index(['Description', 'CustomerID'], dtype='object')\n"
     ]
    }
   ],
   "source": [
    "# finding missing values attribues with counts\n",
    "missingValue_attributes=missingValue_Count[missingValue_Count.where(missingValue_Count.values>0).notnull()]\n",
    "print(missingValue_attributes)\n",
    "#Finding the attributes's key which have missing values\n",
    "print(\"Below is the list of  missing values attributes:- \")\n",
    "print(missingValue_attributes.keys())"
   ]
  },
  {
   "cell_type": "code",
   "execution_count": 308,
   "id": "0211aef0-8e00-4818-af4d-88dfdd5b7b5b",
   "metadata": {},
   "outputs": [
    {
     "name": "stdout",
     "output_type": "stream",
     "text": [
      "total no. of missing values is :- 136534 \n"
     ]
    }
   ],
   "source": [
    "# Finding total no. of missing values for dataSet\n",
    "total_missingvalue_Count=missingValue_Count.sum()\n",
    "print(\"total no. of missing values is :- {} \".format(total_missingvalue_Count))"
   ]
  },
  {
   "cell_type": "code",
   "execution_count": 309,
   "id": "798b4375-476f-4eac-a04a-cffb12101aaf",
   "metadata": {},
   "outputs": [],
   "source": [
    "# Removing missing data from dataSet\n",
    "datasetRead = dataSetRead.dropna(subset=['CustomerID','Description'], inplace=True)"
   ]
  },
  {
   "cell_type": "code",
   "execution_count": 310,
   "id": "a61e751c-8a3f-4c90-b9e3-e86af8854188",
   "metadata": {},
   "outputs": [
    {
     "name": "stdout",
     "output_type": "stream",
     "text": [
      "InvoiceNo      0\n",
      "StockCode      0\n",
      "Description    0\n",
      "Quantity       0\n",
      "InvoiceDate    0\n",
      "UnitPrice      0\n",
      "CustomerID     0\n",
      "Country        0\n",
      "dtype: int64\n"
     ]
    }
   ],
   "source": [
    "# Calculating again the number of missing values in each column\n",
    "missingValue_Count=dataSetRead.isnull().sum()\n",
    "print(missingValue_Count)"
   ]
  },
  {
   "cell_type": "code",
   "execution_count": 311,
   "id": "d8957b58-e6a9-49ac-b48f-a5bf93aa4c40",
   "metadata": {},
   "outputs": [
    {
     "name": "stdout",
     "output_type": "stream",
     "text": [
      "Total no of duplicate records count:- 5225\n"
     ]
    }
   ],
   "source": [
    "# Checking for duplicate records\n",
    "duplicateValue_Count=dataSetRead.duplicated().sum()\n",
    "print(\"Total no of duplicate records count:- {}\".format(duplicateValue_Count))"
   ]
  },
  {
   "cell_type": "code",
   "execution_count": 312,
   "id": "56b37c78-3b6b-41d3-8978-e5f75667a134",
   "metadata": {},
   "outputs": [],
   "source": [
    "# Removing duplicates data from dataSet\n",
    "dataSetRead=dataSetRead.drop_duplicates()"
   ]
  },
  {
   "cell_type": "code",
   "execution_count": 313,
   "id": "a6cec046-8f0e-494d-8c1c-e14bcfb2a9dc",
   "metadata": {},
   "outputs": [
    {
     "name": "stdout",
     "output_type": "stream",
     "text": [
      "Total no of duplicate records count:- 0\n"
     ]
    }
   ],
   "source": [
    "# Checking again for duplicate records\n",
    "duplicateValue_Count=dataSetRead.duplicated().sum()\n",
    "print(\"Total no of duplicate records count:- {}\".format(duplicateValue_Count))"
   ]
  },
  {
   "cell_type": "code",
   "execution_count": 314,
   "id": "c3014a00-07e7-4ec9-942b-f6bf1c94fa41",
   "metadata": {},
   "outputs": [
    {
     "name": "stdout",
     "output_type": "stream",
     "text": [
      "Dimention of Dataset:- (401604, 8)\n",
      "Total number of rows in Dataset:- 401604\n",
      "Total number of columns in Dataset:- 8\n"
     ]
    }
   ],
   "source": [
    "# Displaying dimension of dataSet\n",
    "print(\"Dimention of Dataset:- {}\".format(dataSetRead.shape[0:2]))\n",
    "print(\"Total number of rows in Dataset:- {}\".format(dataSetRead.shape[0]))\n",
    "print(\"Total number of columns in Dataset:- {}\".format(dataSetRead.shape[1]))"
   ]
  },
  {
   "cell_type": "markdown",
   "id": "8e8f6bc0-e261-441b-bb37-1d4917f8756a",
   "metadata": {},
   "source": [
    "### (c) Perform outlier detection and removal"
   ]
  },
  {
   "cell_type": "code",
   "execution_count": 315,
   "id": "57392da3-8d75-4bff-a183-af82c52f9d9b",
   "metadata": {},
   "outputs": [
    {
     "data": {
      "image/png": "[encoded data removed]",
      "text/plain": [
       "<Figure size 1500x3000 with 3 Axes>"
      ]
     },
     "metadata": {},
     "output_type": "display_data"
    }
   ],
   "source": [
    "# Importing required package\n",
    "import seaborn as sbn\n",
    "import matplotlib.pyplot as plt\n",
    "# taking list of all numerocal attributes\n",
    "numerical_attributes = ['Quantity', 'UnitPrice','CustomerID']\n",
    "dataSetRead_new = dataSetRead[numerical_attributes]\n",
    "# Set the parameters that control the general style of the plots.\n",
    "sbn.set_style(\"darkgrid\") \n",
    "# Selecting all numerical attributes columns names \n",
    "cols = dataSetRead_new.columns\n",
    "#Plotting Box plot for each numerical attributes\n",
    "plt.figure(figsize=(15, 30) )\n",
    "for count, item in enumerate(cols, 1): \n",
    "    plt.subplot(4, 3, count) \n",
    "    sbn.boxplot(dataSetRead_new[item])\n",
    "    plt.title(f\"Variable Name : {item}\")\n",
    "\n",
    "plt.tight_layout() \n",
    "plt.show() "
   ]
  },
  {
   "cell_type": "code",
   "execution_count": 316,
   "id": "0a00b06a-8502-4fe9-a32b-908d390af68b",
   "metadata": {},
   "outputs": [
    {
     "name": "stdout",
     "output_type": "stream",
     "text": [
      "Total outliers in 'Quantity': 26646\n",
      "Total outliers in 'UnitPrice': 35802\n",
      "Total outliers in 'CustomerID': 0\n"
     ]
    }
   ],
   "source": [
    "# Calculating IQR for Quantity and UnitPrice\n",
    "Q1 = dataSetRead[['Quantity', 'UnitPrice','CustomerID']].quantile(0.25)\n",
    "Q3 = dataSetRead[['Quantity', 'UnitPrice','CustomerID']].quantile(0.75)\n",
    "IQR = Q3 - Q1\n",
    "\n",
    "# Identify outliers for each attribute\n",
    "outliers_quantity = ((dataSetRead['Quantity'] < (Q1['Quantity'] - 1.5 * IQR['Quantity'])) |\n",
    "                     (dataSetRead['Quantity'] > (Q3['Quantity'] + 1.5 * IQR['Quantity']))).sum()\n",
    "\n",
    "outliers_unitprice = ((dataSetRead['UnitPrice'] < (Q1['UnitPrice'] - 1.5 * IQR['UnitPrice'])) |\n",
    "                      (dataSetRead['UnitPrice'] > (Q3['UnitPrice'] + 1.5 * IQR['UnitPrice']))).sum()\n",
    "\n",
    "outliers_CustomerID = ((dataSetRead['CustomerID'] < (Q1['CustomerID'] - 1.5 * IQR['CustomerID'])) |\n",
    "                      (dataSetRead['CustomerID'] > (Q3['CustomerID'] + 1.5 * IQR['CustomerID']))).sum()\n",
    "\n",
    "# Displaying results for each attribute\n",
    "print(f\"Total outliers in 'Quantity': {outliers_quantity}\")\n",
    "print(f\"Total outliers in 'UnitPrice': {outliers_unitprice}\")\n",
    "print(f\"Total outliers in 'CustomerID': {outliers_CustomerID}\")"
   ]
  },
  {
   "cell_type": "markdown",
   "id": "6183b601-9ee5-4b04-940a-00b4b9462bb0",
   "metadata": {},
   "source": [
    "#### Observation:- From the above box plots it shows that there is no outliers in the CustomerID attribute"
   ]
  },
  {
   "cell_type": "code",
   "execution_count": 317,
   "id": "efe2bec0-d89b-4eeb-b8fc-7eb178f8ea2f",
   "metadata": {},
   "outputs": [],
   "source": [
    "# Removing outliers from dataSet\n",
    "# Identify outliers\n",
    "outlier_mask = (dataSetRead[['Quantity', 'UnitPrice','CustomerID']] < (Q1 - 1.5 * IQR)) | \\\n",
    "               (dataSetRead[['Quantity', 'UnitPrice','CustomerID']] > (Q3 + 1.5 * IQR))\n",
    "\n",
    "# Remove outliers\n",
    "dataSetRead = dataSetRead[~outlier_mask.any(axis=1)]"
   ]
  },
  {
   "cell_type": "code",
   "execution_count": 318,
   "id": "06a50eed-f9e2-403c-bdfc-b1028c70515e",
   "metadata": {},
   "outputs": [
    {
     "name": "stdout",
     "output_type": "stream",
     "text": [
      "Dimention of Dataset:- (339453, 8)\n",
      "Total number of rows in Dataset:- 339453\n",
      "Total number of columns in Dataset:- 8\n"
     ]
    }
   ],
   "source": [
    "# Displaying dimension of dataSet\n",
    "print(\"Dimention of Dataset:- {}\".format(dataSetRead.shape[0:2]))\n",
    "print(\"Total number of rows in Dataset:- {}\".format(dataSetRead.shape[0]))\n",
    "print(\"Total number of columns in Dataset:- {}\".format(dataSetRead.shape[1]))"
   ]
  },
  {
   "cell_type": "markdown",
   "id": "695e4fa9-3ab3-4c52-ba4f-acca0f0bff47",
   "metadata": {},
   "source": [
    "### (d) Feature scaling/normalization"
   ]
  },
  {
   "cell_type": "code",
   "execution_count": 319,
   "id": "b39c1780-c771-41f3-85f1-abaf9fd5a931",
   "metadata": {},
   "outputs": [],
   "source": [
    "# Importing required packages\n",
    "from sklearn.preprocessing import MinMaxScaler\n",
    "scaler = MinMaxScaler()\n",
    "dataSetRead[['Quantity', 'UnitPrice']] = scaler.fit_transform(dataSetRead[['Quantity', 'UnitPrice']])"
   ]
  },
  {
   "cell_type": "code",
   "execution_count": 320,
   "id": "5b5b658b-0c62-409f-af1a-d77f8bc0c55d",
   "metadata": {},
   "outputs": [
    {
     "name": "stdout",
     "output_type": "stream",
     "text": [
      "*****************************************************Displaying below all records**********************************************************\n"
     ]
    },
    {
     "data": {
      "text/html": [
       "<div>\n",
       "<style scoped>\n",
       "    .dataframe tbody tr th:only-of-type {\n",
       "        vertical-align: middle;\n",
       "    }\n",
       "\n",
       "    .dataframe tbody tr th {\n",
       "        vertical-align: top;\n",
       "    }\n",
       "\n",
       "    .dataframe thead th {\n",
       "        text-align: right;\n",
       "    }\n",
       "</style>\n",
       "<table border=\"1\" class=\"dataframe\">\n",
       "  <thead>\n",
       "    <tr style=\"text-align: right;\">\n",
       "      <th></th>\n",
       "      <th>InvoiceNo</th>\n",
       "      <th>StockCode</th>\n",
       "      <th>Description</th>\n",
       "      <th>Quantity</th>\n",
       "      <th>InvoiceDate</th>\n",
       "      <th>UnitPrice</th>\n",
       "      <th>CustomerID</th>\n",
       "      <th>Country</th>\n",
       "    </tr>\n",
       "  </thead>\n",
       "  <tbody>\n",
       "    <tr>\n",
       "      <th>0</th>\n",
       "      <td>536365</td>\n",
       "      <td>85123A</td>\n",
       "      <td>WHITE HANGING HEART T-LIGHT HOLDER</td>\n",
       "      <td>0.475</td>\n",
       "      <td>01-12-2010 08:26</td>\n",
       "      <td>0.340000</td>\n",
       "      <td>17850.0</td>\n",
       "      <td>United Kingdom</td>\n",
       "    </tr>\n",
       "    <tr>\n",
       "      <th>1</th>\n",
       "      <td>536365</td>\n",
       "      <td>71053</td>\n",
       "      <td>WHITE METAL LANTERN</td>\n",
       "      <td>0.475</td>\n",
       "      <td>01-12-2010 08:26</td>\n",
       "      <td>0.452000</td>\n",
       "      <td>17850.0</td>\n",
       "      <td>United Kingdom</td>\n",
       "    </tr>\n",
       "    <tr>\n",
       "      <th>2</th>\n",
       "      <td>536365</td>\n",
       "      <td>84406B</td>\n",
       "      <td>CREAM CUPID HEARTS COAT HANGER</td>\n",
       "      <td>0.525</td>\n",
       "      <td>01-12-2010 08:26</td>\n",
       "      <td>0.366667</td>\n",
       "      <td>17850.0</td>\n",
       "      <td>United Kingdom</td>\n",
       "    </tr>\n",
       "    <tr>\n",
       "      <th>3</th>\n",
       "      <td>536365</td>\n",
       "      <td>84029G</td>\n",
       "      <td>KNITTED UNION FLAG HOT WATER BOTTLE</td>\n",
       "      <td>0.475</td>\n",
       "      <td>01-12-2010 08:26</td>\n",
       "      <td>0.452000</td>\n",
       "      <td>17850.0</td>\n",
       "      <td>United Kingdom</td>\n",
       "    </tr>\n",
       "    <tr>\n",
       "      <th>4</th>\n",
       "      <td>536365</td>\n",
       "      <td>84029E</td>\n",
       "      <td>RED WOOLLY HOTTIE WHITE HEART.</td>\n",
       "      <td>0.475</td>\n",
       "      <td>01-12-2010 08:26</td>\n",
       "      <td>0.452000</td>\n",
       "      <td>17850.0</td>\n",
       "      <td>United Kingdom</td>\n",
       "    </tr>\n",
       "    <tr>\n",
       "      <th>...</th>\n",
       "      <td>...</td>\n",
       "      <td>...</td>\n",
       "      <td>...</td>\n",
       "      <td>...</td>\n",
       "      <td>...</td>\n",
       "      <td>...</td>\n",
       "      <td>...</td>\n",
       "      <td>...</td>\n",
       "    </tr>\n",
       "    <tr>\n",
       "      <th>541904</th>\n",
       "      <td>581587</td>\n",
       "      <td>22613</td>\n",
       "      <td>PACK OF 20 SPACEBOY NAPKINS</td>\n",
       "      <td>0.625</td>\n",
       "      <td>09-12-2011 12:50</td>\n",
       "      <td>0.113333</td>\n",
       "      <td>12680.0</td>\n",
       "      <td>France</td>\n",
       "    </tr>\n",
       "    <tr>\n",
       "      <th>541905</th>\n",
       "      <td>581587</td>\n",
       "      <td>22899</td>\n",
       "      <td>CHILDREN'S APRON DOLLY GIRL</td>\n",
       "      <td>0.475</td>\n",
       "      <td>09-12-2011 12:50</td>\n",
       "      <td>0.280000</td>\n",
       "      <td>12680.0</td>\n",
       "      <td>France</td>\n",
       "    </tr>\n",
       "    <tr>\n",
       "      <th>541906</th>\n",
       "      <td>581587</td>\n",
       "      <td>23254</td>\n",
       "      <td>CHILDRENS CUTLERY DOLLY GIRL</td>\n",
       "      <td>0.425</td>\n",
       "      <td>09-12-2011 12:50</td>\n",
       "      <td>0.553333</td>\n",
       "      <td>12680.0</td>\n",
       "      <td>France</td>\n",
       "    </tr>\n",
       "    <tr>\n",
       "      <th>541907</th>\n",
       "      <td>581587</td>\n",
       "      <td>23255</td>\n",
       "      <td>CHILDRENS CUTLERY CIRCUS PARADE</td>\n",
       "      <td>0.425</td>\n",
       "      <td>09-12-2011 12:50</td>\n",
       "      <td>0.553333</td>\n",
       "      <td>12680.0</td>\n",
       "      <td>France</td>\n",
       "    </tr>\n",
       "    <tr>\n",
       "      <th>541908</th>\n",
       "      <td>581587</td>\n",
       "      <td>22138</td>\n",
       "      <td>BAKING SET 9 PIECE RETROSPOT</td>\n",
       "      <td>0.400</td>\n",
       "      <td>09-12-2011 12:50</td>\n",
       "      <td>0.660000</td>\n",
       "      <td>12680.0</td>\n",
       "      <td>France</td>\n",
       "    </tr>\n",
       "  </tbody>\n",
       "</table>\n",
       "<p>339453 rows × 8 columns</p>\n",
       "</div>"
      ],
      "text/plain": [
       "       InvoiceNo StockCode                          Description  Quantity  \\\n",
       "0         536365    85123A   WHITE HANGING HEART T-LIGHT HOLDER     0.475   \n",
       "1         536365     71053                  WHITE METAL LANTERN     0.475   \n",
       "2         536365    84406B       CREAM CUPID HEARTS COAT HANGER     0.525   \n",
       "3         536365    84029G  KNITTED UNION FLAG HOT WATER BOTTLE     0.475   \n",
       "4         536365    84029E       RED WOOLLY HOTTIE WHITE HEART.     0.475   \n",
       "...          ...       ...                                  ...       ...   \n",
       "541904    581587     22613          PACK OF 20 SPACEBOY NAPKINS     0.625   \n",
       "541905    581587     22899         CHILDREN'S APRON DOLLY GIRL      0.475   \n",
       "541906    581587     23254        CHILDRENS CUTLERY DOLLY GIRL      0.425   \n",
       "541907    581587     23255      CHILDRENS CUTLERY CIRCUS PARADE     0.425   \n",
       "541908    581587     22138        BAKING SET 9 PIECE RETROSPOT      0.400   \n",
       "\n",
       "             InvoiceDate  UnitPrice  CustomerID         Country  \n",
       "0       01-12-2010 08:26   0.340000     17850.0  United Kingdom  \n",
       "1       01-12-2010 08:26   0.452000     17850.0  United Kingdom  \n",
       "2       01-12-2010 08:26   0.366667     17850.0  United Kingdom  \n",
       "3       01-12-2010 08:26   0.452000     17850.0  United Kingdom  \n",
       "4       01-12-2010 08:26   0.452000     17850.0  United Kingdom  \n",
       "...                  ...        ...         ...             ...  \n",
       "541904  09-12-2011 12:50   0.113333     12680.0          France  \n",
       "541905  09-12-2011 12:50   0.280000     12680.0          France  \n",
       "541906  09-12-2011 12:50   0.553333     12680.0          France  \n",
       "541907  09-12-2011 12:50   0.553333     12680.0          France  \n",
       "541908  09-12-2011 12:50   0.660000     12680.0          France  \n",
       "\n",
       "[339453 rows x 8 columns]"
      ]
     },
     "execution_count": 320,
     "metadata": {},
     "output_type": "execute_result"
    }
   ],
   "source": [
    "# Displaying all records\n",
    "print(\"*****************************************************Displaying below all records**********************************************************\")\n",
    "dataSetRead"
   ]
  },
  {
   "cell_type": "markdown",
   "id": "89edde01-8529-41d4-9434-43f39d01b011",
   "metadata": {},
   "source": [
    "### (e) Create relevant features for both clustering and association analysis"
   ]
  },
  {
   "cell_type": "markdown",
   "id": "615efc18-02b5-44ee-9a1f-8e9452188a46",
   "metadata": {},
   "source": [
    "#### * For Clustering:\n",
    "RFM features:\n",
    "\n",
    "   --> Recency: Days since last purchase.\n",
    "\n",
    "   --> Frequency: Number of transactions per customer.\n",
    "\n",
    "   --> Monetary: Total spend per customer."
   ]
  },
  {
   "cell_type": "code",
   "execution_count": 321,
   "id": "1c7f7807-9a59-4ba2-9be6-4dbb6185fd36",
   "metadata": {},
   "outputs": [],
   "source": [
    "# Importing required packages\n",
    "from datetime import datetime\n",
    "from datetime import timedelta"
   ]
  },
  {
   "cell_type": "code",
   "execution_count": 322,
   "id": "56d2d4d7-3dac-4ca7-9c0a-a81561c6d1a6",
   "metadata": {},
   "outputs": [],
   "source": [
    "# Creating Recency, Frequency, Monetary features\n",
    "dataSetRead['InvoiceDate'] = pd.to_datetime(dataSetRead['InvoiceDate'],format=\"%d-%m-%Y %H:%M\")\n",
    "snapshot_date = max(dataSetRead['InvoiceDate']) + timedelta(days=1)\n",
    "rfm = dataSetRead.groupby('CustomerID').agg({\n",
    "    'InvoiceDate': lambda x: (snapshot_date - x.max()).days,\n",
    "    'InvoiceNo': 'count',\n",
    "    'UnitPrice': 'sum'\n",
    "}).rename(columns={\n",
    "    'InvoiceDate': 'Recency', \n",
    "    'InvoiceNo': 'Frequency', \n",
    "    'UnitPrice': 'Monetary'\n",
    "})"
   ]
  },
  {
   "cell_type": "markdown",
   "id": "e80c89ab-ddc0-4e78-873a-d940731a1dd0",
   "metadata": {},
   "source": [
    "#### * For Association Rule Mining:\n",
    "\n",
    "Create a basket format:\n",
    "\n",
    "       --> Group data by InvoiceNo and pivot StockCode or Description into a binary matrix (0/1).\n",
    "\n",
    "       --> Use this format for market basket analysis.\n",
    "\n",
    "\n"
   ]
  },
  {
   "cell_type": "code",
   "execution_count": 323,
   "id": "a7dc3d40-5509-4bad-97d9-607391696853",
   "metadata": {},
   "outputs": [],
   "source": [
    "# Basket format\n",
    "basket = dataSetRead.groupby(['InvoiceNo', 'Description'])['Quantity'].sum().unstack().fillna(0)\n",
    "basket = basket.applymap(lambda x: 1 if x > 0 else 0)"
   ]
  },
  {
   "cell_type": "markdown",
   "id": "977502df-83c0-40e8-8041-553ddc528099",
   "metadata": {},
   "source": [
    "## Task 2:- Customer Segmentation using Clustering (5 marks)\n",
    "\n",
    "   - Apply Elbow method to determine optimal number of clusters (1 mark)\n",
    "\n",
    "   - Implement three clustering algorithms:\n",
    "\n",
    "     - K-means clustering (1.5 marks)\n",
    "\n",
    "     - Hierarchical clustering (1.5 marks)\n",
    "\n",
    "     - DBSCAN (1 mark)\n",
    "\n",
    "   - Calculate and compare Silhouette coefficients for each method\n",
    "\n"
   ]
  },
  {
   "cell_type": "markdown",
   "id": "100bdb59-841f-4b1d-abf5-b7a85a3f3623",
   "metadata": {},
   "source": [
    "### (a) Apply Elbow method to determine optimal number of clusters \n",
    "The Elbow method helps determine the optimal number of clusters (\n",
    "𝑘\n",
    "k) for clustering algorithms like K-Means by evaluating the Within-Cluster-Sum-of-Squares (WCSS) for different \n",
    "𝑘\n",
    "k values.\n",
    "\n",
    "Steps:\n",
    "\n",
    "1- Compute K-Means for a range of k values (e.g., 1 to 10).\n",
    "\n",
    "2- Plot k vs WCSS.\n",
    "\n",
    "3- Look for the \"elbow point\" where adding clusters doesn't reduce WCSS significantly."
   ]
  },
  {
   "cell_type": "code",
   "execution_count": 324,
   "id": "8553bca9-0be1-4dab-ada4-5b689b46ffdc",
   "metadata": {},
   "outputs": [
    {
     "data": {
      "image/png": "[encoded data removed]",
      "text/plain": [
       "<Figure size 800x500 with 1 Axes>"
      ]
     },
     "metadata": {},
     "output_type": "display_data"
    }
   ],
   "source": [
    "# Importing required package\n",
    "from sklearn.cluster import KMeans\n",
    "wcss = []\n",
    "for k in range(1, 11):\n",
    "    kmeans = KMeans(n_clusters=k, random_state=42)\n",
    "    kmeans.fit(rfm)\n",
    "    wcss.append(kmeans.inertia_)\n",
    "\n",
    "# Plotting the Elbow graph\n",
    "plt.figure(figsize=(8, 5))\n",
    "plt.plot(range(1, 11), wcss, marker='o')\n",
    "plt.title('Elbow Method')\n",
    "plt.xlabel('Number of Clusters')\n",
    "plt.ylabel('WCSS')\n",
    "plt.show()"
   ]
  },
  {
   "cell_type": "markdown",
   "id": "b90b1fc7-b47f-4f23-bf60-c4ef5d2a638e",
   "metadata": {},
   "source": [
    "From the Elbow method above graph , the optimal number of clusters \n",
    "𝑘\n",
    "k can typically be identified at the \"elbow\" point of the curve, where the rate of decrease in the Within-Cluster Sum of Squares (WCSS) starts to slow down.\n",
    "\n",
    "Looking at the plot, it seems that the \"elbow\" occurs at k = 3, as the WCSS decreases significantly at first and then levels off after 3 clusters. This is where the curve starts to flatten out, indicating that adding more clusters doesn't result in substantial improvements.\n",
    "\n",
    "Thus, based on this graph, the optimal value of k is 3."
   ]
  },
  {
   "cell_type": "markdown",
   "id": "931f3bd0-08f3-4b1f-a37a-d53244553eaf",
   "metadata": {},
   "source": [
    "### (b)  Implement three clustering algorithms:\n"
   ]
  },
  {
   "cell_type": "markdown",
   "id": "e52b496d-323d-4dd2-a3f3-fb04a5fa2fc5",
   "metadata": {},
   "source": [
    "#### (b.1) K-Means Clustering \n",
    "\n",
    "  --> Use the optimal  𝑘 identified from the Elbow method.\n",
    "\n",
    "  --> Apply the KMeans algorithm."
   ]
  },
  {
   "cell_type": "code",
   "execution_count": 325,
   "id": "7283f7eb-2cf0-4f9a-8887-a5db81fbae6e",
   "metadata": {},
   "outputs": [
    {
     "data": {
      "image/png": "[encoded data removed]",
      "text/plain": [
       "<Figure size 640x480 with 1 Axes>"
      ]
     },
     "metadata": {},
     "output_type": "display_data"
    }
   ],
   "source": [
    "# K-Means clustering\n",
    "kmeans = KMeans(n_clusters=3, random_state=42)\n",
    "#rfm['KMeans_Cluster'] = kmeans.fit_predict(rfm)\n",
    "kmeans_labels = kmeans.fit_predict(rfm)\n",
    "kmeans_silhouette = silhouette_score(rfm, kmeans_labels)\n",
    "# Visualize clusters (optional, using 2D or 3D PCA)\n",
    "from sklearn.decomposition import PCA\n",
    "pca = PCA(n_components=2)\n",
    "rfm_pca = pca.fit_transform(rfm)\n",
    "plt.scatter(rfm_pca[:, 0], rfm_pca[:, 1], c=kmeans_labels, cmap=\"plasma\", s=100)\n",
    "plt.title('K-Means Clustering Results')\n",
    "plt.show()"
   ]
  },
  {
   "cell_type": "markdown",
   "id": "7e45e3d7-c08a-44d3-b6b2-5b15dc6dfb07",
   "metadata": {},
   "source": [
    "#### (b.2) Hierarchical Clustering\n",
    "\n",
    "  --> Use Agglomerative Clustering.\n",
    "\n",
    "  --> Visualize the dendrogram to validate clusters."
   ]
  },
  {
   "cell_type": "code",
   "execution_count": 326,
   "id": "ea14310f-e164-4989-9710-d3b59d3ccd27",
   "metadata": {},
   "outputs": [
    {
     "data": {
      "image/png": "[encoded data removed]",
      "text/plain": [
       "<Figure size 1000x700 with 1 Axes>"
      ]
     },
     "metadata": {},
     "output_type": "display_data"
    }
   ],
   "source": [
    "# Importing required packages\n",
    "from scipy.cluster.hierarchy import dendrogram, linkage\n",
    "from sklearn.cluster import AgglomerativeClustering\n",
    "# Dendrogram\n",
    "linked = linkage(rfm, method='ward')\n",
    "plt.figure(figsize=(10, 7))\n",
    "dendrogram(linked)\n",
    "plt.title('Dendrogram')\n",
    "plt.show()"
   ]
  },
  {
   "cell_type": "code",
   "execution_count": 327,
   "id": "1b7f77b8-f5a1-4d20-a7c1-9e4e62e0bcf5",
   "metadata": {},
   "outputs": [],
   "source": [
    "# Apply Agglomerative Clustering\n",
    "hierarchical_clustering = AgglomerativeClustering(n_clusters=3, metric='euclidean', linkage='ward')\n",
    "rfm['Hierarchical_Cluster'] = hierarchical_clustering.fit_predict(rfm[['Recency', 'Frequency', 'Monetary']])"
   ]
  },
  {
   "cell_type": "markdown",
   "id": "9c3642cb-67b1-4cca-80fe-30f5570ab6d8",
   "metadata": {},
   "source": [
    "#### (b.3) DBSCAN (Density-Based Spatial Clustering of Applications with Noise)\n",
    "\n",
    "--> DBSCAN identifies clusters based on density rather than predetermined 𝑘\n",
    "\n",
    "--> Use eps (radius) and min_samples (min points per cluster) to define density."
   ]
  },
  {
   "cell_type": "code",
   "execution_count": 328,
   "id": "2f69d85a-373b-47be-87c1-424291fd7b29",
   "metadata": {},
   "outputs": [],
   "source": [
    "from sklearn.cluster import DBSCAN\n",
    "\n",
    "# Apply DBSCAN\n",
    "dbscan = DBSCAN(eps=0.5, min_samples=3)\n",
    "rfm['DBSCAN_Cluster'] = dbscan.fit_predict(rfm[['Recency', 'Frequency', 'Monetary']])"
   ]
  },
  {
   "cell_type": "markdown",
   "id": "f5cdfc2c-cead-4768-a47a-47bd0960af83",
   "metadata": {},
   "source": [
    "### (c) Calculate and compare Silhouette coefficients for each method"
   ]
  },
  {
   "cell_type": "markdown",
   "id": "53af5cf9-75eb-4ecb-b369-001486df41b3",
   "metadata": {},
   "source": [
    "The Silhouette coefficient measures how similar each point is to its own cluster compared to other clusters. A high silhouette score indicates good clustering."
   ]
  },
  {
   "cell_type": "code",
   "execution_count": 329,
   "id": "c8822c27-ef81-4632-8a76-9493e89d6fbf",
   "metadata": {},
   "outputs": [
    {
     "name": "stdout",
     "output_type": "stream",
     "text": [
      "K-Means Silhouette Score: 0.4998255169836387\n",
      "Hierarchical Clustering Silhouette Score: 0.6959473543829896\n",
      "DBSCAN Silhouette Score: -0.5909900158153845\n"
     ]
    }
   ],
   "source": [
    "# Importing required package\n",
    "from sklearn.metrics import silhouette_score\n",
    "\n",
    "# Silhouette scores\n",
    "kmeans_silhouette = silhouette_score(rfm[['Recency', 'Frequency', 'Monetary']], kmeans_labels)\n",
    "hierarchical_silhouette = silhouette_score(rfm[['Recency', 'Frequency', 'Monetary']], rfm['Hierarchical_Cluster'])\n",
    "dbscan_silhouette = silhouette_score(rfm[['Recency', 'Frequency', 'Monetary']], rfm['DBSCAN_Cluster'])\n",
    "\n",
    "# Print results\n",
    "print(f\"K-Means Silhouette Score: {kmeans_silhouette}\")\n",
    "print(f\"Hierarchical Clustering Silhouette Score: {hierarchical_silhouette}\")\n",
    "print(f\"DBSCAN Silhouette Score: {dbscan_silhouette}\")"
   ]
  },
  {
   "cell_type": "markdown",
   "id": "ab4f580f-2559-49ca-bed1-dd8e654cca79",
   "metadata": {},
   "source": [
    "#### Interpretation of Scores\n",
    "\n",
    "K-Means Clustering:\n",
    "\n",
    "Silhouette Score: 0.4998\n",
    "\n",
    "This indicates that the clustering is moderately well-formed, with a decent separation between clusters but some degree of overlap or points near \n",
    "\n",
    "cluster boundaries.\n",
    "\n",
    "\n",
    "Hierarchical Clustering:\n",
    "\n",
    "Silhouette Score: 0.6959\n",
    "\n",
    "This is a high score, suggesting that the clusters are well-separated, compact, and appropriately represent the underlying structure of the data. \n",
    "\n",
    "It outperforms K-Means in this case.\n",
    "\n",
    "\n",
    "DBSCAN:\n",
    "\n",
    "Silhouette Score: -0.5909\n",
    "\n",
    "A negative score indicates that the clustering is poor, with many points assigned to incorrect clusters or classified as noise. This is likely due \n",
    "\n",
    "to the dataset not being well-suited to DBSCAN or suboptimal tuning of its eps and min_samples parameters.\n"
   ]
  },
  {
   "cell_type": "markdown",
   "id": "09275c26-e888-4b70-9716-58e3a032489d",
   "metadata": {},
   "source": [
    "### Task 3:-Purchase Pattern Analysis using Association Rules (5 marks)\n",
    "\n",
    "   - Prepare transaction data for association rule mining\n",
    "\n",
    "   - Define support and confidence thresholds\n",
    "\n",
    "   - Apply Apriori algorithm to discover frequent itemsets\n",
    "\n",
    "   - Generate and analyze association rules\n",
    "\n",
    "   - Compare rules based on different metrics (support, confidence, lift)\n",
    "\n",
    "   - Provide business insights from discovered rules"
   ]
  },
  {
   "cell_type": "markdown",
   "id": "6f161ff7-7a5d-475f-aa90-e440de3a76d1",
   "metadata": {},
   "source": [
    "#### (a) Prepare transaction data for association rule mining"
   ]
  },
  {
   "cell_type": "markdown",
   "id": "43b8a3a6-4f8d-4d4a-921c-f9cf7ab88778",
   "metadata": {},
   "source": [
    "Association rule mining requires transactional data in the format of InvoiceID and associated Items.\n",
    "\n",
    "Steps:\n",
    "--> Transform the Dataset:\n",
    "\n",
    "    Group data by InvoiceNo and aggregate items into lists.\n",
    "\n",
    "    Exclude invalid transactions, such as cancellations (InvoiceNo starting with \"C\") and outliers.\n",
    "\n",
    "--> Create a Transaction-Item Matrix:\n",
    "\n",
    "    Use one-hot encoding to transform item transactions into a binary matrix."
   ]
  },
  {
   "cell_type": "code",
   "execution_count": 330,
   "id": "dfdbd5d0-d0ac-4dfd-b71e-f3e337a43d25",
   "metadata": {},
   "outputs": [],
   "source": [
    "# Filter valid transactions\n",
    "transactions = dataSetRead[dataSetRead['Quantity'] > 0]\n",
    "transactions = transactions[~transactions['InvoiceNo'].str.contains('C', na=False)]\n",
    "\n",
    "# Group by InvoiceNo and aggregate items\n",
    "transaction_data = transactions.groupby('InvoiceNo')['Description'].apply(list)\n",
    "\n",
    "# Convert to a transactional matrix for one-hot encoding\n",
    "\n",
    "from mlxtend.preprocessing import TransactionEncoder\n",
    "\n",
    "te = TransactionEncoder()\n",
    "transaction_matrix = te.fit_transform(transaction_data)\n",
    "df_transactions = pd.DataFrame(transaction_matrix, columns=te.columns_)"
   ]
  },
  {
   "cell_type": "markdown",
   "id": "a4a761cc-e750-4885-a626-5b614cb62cea",
   "metadata": {},
   "source": [
    "#### (b) Define support and confidence thresholds"
   ]
  },
  {
   "cell_type": "markdown",
   "id": "653a87f8-e357-40d7-8ad0-f019e88b8160",
   "metadata": {},
   "source": [
    "Support: Minimum proportion of transactions containing an itemset.\n",
    "\n",
    "Confidence: Conditional probability of consequent given antecedent.\n",
    "\n",
    "Example:\n",
    "\n",
    "Set support = 0.01 (1% of all transactions).\n",
    "\n",
    "Set confidence = 0.2 (20% likelihood)."
   ]
  },
  {
   "cell_type": "markdown",
   "id": "4cd6396d-caa6-4afd-a07c-75358ebf3a40",
   "metadata": {},
   "source": [
    "#### (c) Apply Apriori algorithm to discover frequent itemsets"
   ]
  },
  {
   "cell_type": "markdown",
   "id": "4c33e31a-7d66-4589-ae25-7dacfc464875",
   "metadata": {},
   "source": [
    "The Apriori algorithm identifies frequent itemsets based on the minimum support threshold."
   ]
  },
  {
   "cell_type": "code",
   "execution_count": 331,
   "id": "76e63f6e-6871-49cc-bae4-56acf6006422",
   "metadata": {},
   "outputs": [
    {
     "name": "stdout",
     "output_type": "stream",
     "text": [
      "      support                                           itemsets  length\n",
      "0    0.010811                 ( SET 2 TEA TOWELS I LOVE LONDON )       1\n",
      "1    0.012652                           (10 COLOUR SPACEBOY PEN)       1\n",
      "2    0.010573                  (12 MESSAGE CARDS WITH ENVELOPES)       1\n",
      "3    0.015800                    (12 PENCIL SMALL TUBE WOODLAND)       1\n",
      "4    0.016810              (12 PENCILS SMALL TUBE RED RETROSPOT)       1\n",
      "..        ...                                                ...     ...\n",
      "929  0.014137  (LUNCH BAG RED RETROSPOT, LUNCH BAG WOODLAND, ...       3\n",
      "930  0.012058  (LUNCH BAG RED RETROSPOT, LUNCH BAG SUKI DESIG...       3\n",
      "931  0.010039  (LUNCH BAG SUKI DESIGN , LUNCH BAG WOODLAND, L...       3\n",
      "932  0.010692  (POPPY'S PLAYHOUSE LIVINGROOM , POPPY'S PLAYHO...       3\n",
      "933  0.010395  (LUNCH BAG RED RETROSPOT, LUNCH BAG PINK POLKA...       4\n",
      "\n",
      "[934 rows x 3 columns]\n"
     ]
    }
   ],
   "source": [
    "from mlxtend.frequent_patterns import apriori\n",
    "\n",
    "# Generate frequent itemsets\n",
    "frequent_itemsets = apriori(df_transactions, min_support=0.01, use_colnames=True)\n",
    "\n",
    "# Add the length of itemsets for analysis\n",
    "frequent_itemsets['length'] = frequent_itemsets['itemsets'].apply(len)\n",
    "\n",
    "print(frequent_itemsets)"
   ]
  },
  {
   "cell_type": "markdown",
   "id": "86b66569-72f6-4e18-9a2a-bb317297d5ae",
   "metadata": {},
   "source": [
    "#### (d) Generate and analyze association rules"
   ]
  },
  {
   "cell_type": "markdown",
   "id": "44aebce0-e972-42f9-a01f-cb345023dab3",
   "metadata": {},
   "source": [
    "Use the frequent itemsets to generate association rules with metrics like support, confidence, and lift."
   ]
  },
  {
   "cell_type": "code",
   "execution_count": 332,
   "id": "d647aa0b-d4ed-4807-9e6e-7032936880bf",
   "metadata": {},
   "outputs": [
    {
     "name": "stdout",
     "output_type": "stream",
     "text": [
      "                antecedents             consequents  antecedent support  \\\n",
      "147     (HERB MARKER THYME)  (HERB MARKER ROSEMARY)            0.010811   \n",
      "146  (HERB MARKER ROSEMARY)     (HERB MARKER THYME)            0.011108   \n",
      "144  (HERB MARKER ROSEMARY)   (HERB MARKER PARSLEY)            0.011108   \n",
      "145   (HERB MARKER PARSLEY)  (HERB MARKER ROSEMARY)            0.010930   \n",
      "140  (HERB MARKER ROSEMARY)     (HERB MARKER BASIL)            0.011108   \n",
      "\n",
      "     consequent support   support  confidence       lift  representativity  \\\n",
      "147            0.011108  0.010217    0.945055  85.080214               1.0   \n",
      "146            0.010811  0.010217    0.919786  85.080214               1.0   \n",
      "144            0.010930  0.010157    0.914439  83.666153               1.0   \n",
      "145            0.011108  0.010157    0.929348  83.666153               1.0   \n",
      "140            0.010930  0.010039    0.903743  82.687602               1.0   \n",
      "\n",
      "     leverage  conviction  zhangs_metric   jaccard  certainty  kulczynski  \n",
      "147  0.010097   17.997838       0.999047  0.873096   0.944438    0.932421  \n",
      "146  0.010097   12.331892       0.999347  0.873096   0.918909    0.932421  \n",
      "144  0.010036   11.559760       0.999146  0.855000   0.913493    0.921893  \n",
      "145  0.010036   13.996628       0.998966  0.855000   0.928554    0.921893  \n",
      "140  0.009917   10.275342       0.999003  0.836634   0.902680    0.911111  \n"
     ]
    }
   ],
   "source": [
    "from mlxtend.frequent_patterns import association_rules\n",
    "\n",
    "# Generate rules\n",
    "rules = association_rules(frequent_itemsets,metric=\"confidence\", min_threshold=0.2,num_itemsets=len(transaction_data))\n",
    "\n",
    "# Add additional metrics for ranking\n",
    "rules['lift'] = rules['lift']\n",
    "rules = rules.sort_values(by='lift', ascending=False)\n",
    "\n",
    "print(rules.head())"
   ]
  },
  {
   "cell_type": "markdown",
   "id": "8b1294e8-4605-4a98-95a3-c8013b4a7a62",
   "metadata": {},
   "source": [
    "#### Metrics for Rule Evaluation:\n",
    "1- Support: Measures how frequently the itemset occurs.\n",
    "\n",
    "2- Confidence: Measures the likelihood of seeing the consequent given the antecedent.\n",
    "\n",
    "3- Lift: Measures the strength of the rule compared to random chance (lift > 1 indicates a strong rule)."
   ]
  },
  {
   "cell_type": "markdown",
   "id": "3101bc73-2a20-486f-b2ad-62f5d630a1ed",
   "metadata": {},
   "source": [
    "#### (d) Compare rules based on different metrics (support, confidence, lift)"
   ]
  },
  {
   "cell_type": "code",
   "execution_count": 333,
   "id": "3158ff5c-20f7-4d36-9ce5-346b36eda6df",
   "metadata": {},
   "outputs": [
    {
     "name": "stdout",
     "output_type": "stream",
     "text": [
      "Rules Sorted by Support:\n",
      "                            antecedents                         consequents  \\\n",
      "110  (ROSES REGENCY TEACUP AND SAUCER )   (GREEN REGENCY TEACUP AND SAUCER)   \n",
      "111   (GREEN REGENCY TEACUP AND SAUCER)  (ROSES REGENCY TEACUP AND SAUCER )   \n",
      "25          (ALARM CLOCK BAKELIKE RED )        (ALARM CLOCK BAKELIKE GREEN)   \n",
      "26         (ALARM CLOCK BAKELIKE GREEN)         (ALARM CLOCK BAKELIKE RED )   \n",
      "373           (LUNCH BAG RED RETROSPOT)           (LUNCH BAG PINK POLKADOT)   \n",
      "\n",
      "      support  \n",
      "110  0.030710  \n",
      "111  0.030710  \n",
      "25   0.030591  \n",
      "26   0.030591  \n",
      "373  0.028631  \n"
     ]
    }
   ],
   "source": [
    "# Sorting rules by support in descending order\n",
    "rules_sorted_by_support = rules.sort_values('support', ascending=False)\n",
    "print(\"Rules Sorted by Support:\")\n",
    "print(rules_sorted_by_support[['antecedents', 'consequents', 'support']].head())"
   ]
  },
  {
   "cell_type": "code",
   "execution_count": 334,
   "id": "9090a7db-7b3a-4e4d-bda6-8e856eca53d7",
   "metadata": {},
   "outputs": [
    {
     "name": "stdout",
     "output_type": "stream",
     "text": [
      "Rules Sorted by Confidence:\n",
      "                antecedents             consequents  confidence\n",
      "147     (HERB MARKER THYME)  (HERB MARKER ROSEMARY)    0.945055\n",
      "145   (HERB MARKER PARSLEY)  (HERB MARKER ROSEMARY)    0.929348\n",
      "146  (HERB MARKER ROSEMARY)     (HERB MARKER THYME)    0.919786\n",
      "141     (HERB MARKER BASIL)  (HERB MARKER ROSEMARY)    0.918478\n",
      "144  (HERB MARKER ROSEMARY)   (HERB MARKER PARSLEY)    0.914439\n"
     ]
    }
   ],
   "source": [
    "# Sorting rules by confidence in descending order\n",
    "rules_sorted_by_confidence = rules.sort_values('confidence', ascending=False)\n",
    "print(\"Rules Sorted by Confidence:\")\n",
    "print(rules_sorted_by_confidence[['antecedents', 'consequents', 'confidence']].head())"
   ]
  },
  {
   "cell_type": "code",
   "execution_count": 335,
   "id": "64c59bc3-bb00-4d1d-b94c-576632787d0c",
   "metadata": {},
   "outputs": [
    {
     "name": "stdout",
     "output_type": "stream",
     "text": [
      "Rules Sorted by Lift:\n",
      "                antecedents             consequents       lift\n",
      "147     (HERB MARKER THYME)  (HERB MARKER ROSEMARY)  85.080214\n",
      "146  (HERB MARKER ROSEMARY)     (HERB MARKER THYME)  85.080214\n",
      "144  (HERB MARKER ROSEMARY)   (HERB MARKER PARSLEY)  83.666153\n",
      "145   (HERB MARKER PARSLEY)  (HERB MARKER ROSEMARY)  83.666153\n",
      "140  (HERB MARKER ROSEMARY)     (HERB MARKER BASIL)  82.687602\n"
     ]
    }
   ],
   "source": [
    "# Sorting rules by lift in descending order\n",
    "rules_sorted_by_lift = rules.sort_values('lift', ascending=False)\n",
    "print(\"Rules Sorted by Lift:\")\n",
    "print(rules_sorted_by_lift[['antecedents', 'consequents', 'lift']].head())"
   ]
  },
  {
   "cell_type": "markdown",
   "id": "5fc71745-373c-40c7-9d0f-1145b444153a",
   "metadata": {},
   "source": [
    "#### Comparison of Rules Based on Metrics\n",
    "\n",
    "Support\n",
    "\n",
    "Definition: Proportion of transactions containing both antecedent and consequent.\n",
    "\n",
    "Top Rule:\n",
    "\n",
    "       --> Antecedent: (ROSES REGENCY TEACUP AND SAUCER)\n",
    "\n",
    "       --> Consequent: (GREEN REGENCY TEACUP AND SAUCER)\n",
    "\n",
    "       --> Support: 0.030710 (Appears in 3.07% of transactions).\n",
    "\n",
    "Insights:\n",
    "\n",
    "      --> These are frequent combinations, suitable for promotions targeting large customer segments.\n",
    "\n",
    "      -->  Useful for bulk purchasing or display optimization.\n",
    "------------------------------------------------------------------------------------------------------------------------\n",
    "Confidence\n",
    "\n",
    "Definition: Likelihood of consequent being purchased given the antecedent.\n",
    "\n",
    "Top Rule:\n",
    "\n",
    "      --> Antecedent: (HERB MARKER THYME)\n",
    "      --> Consequent: (HERB MARKER ROSEMARY)\n",
    "      --> Confidence: 0.945055 (94.5% of transactions with THYME also include ROSEMARY).\n",
    "      \n",
    "Insights:\n",
    "\n",
    "       --> High confidence indicates strong predictability.\n",
    "       \n",
    "       --> Use for targeted recommendations, e.g., recommending ROSEMARY if THYME is in a customer's cart.\n",
    "       .\n",
    "-----------------------------------------------------------------------------------------------------------------------\n",
    "\n",
    "Lift\n",
    "\n",
    "Definition: Strength of the association compared to random co-occurrence.\n",
    "\n",
    "Top Rule:\n",
    "\n",
    "        --> Antecedent: (HERB MARKER THYME)\n",
    "        \n",
    "        --> Consequent: (HERB MARKER ROSEMARY)\n",
    "        \n",
    "        --> Lift: 85.08 (Occurs 85 times more than expected by chance).\n",
    "Insights:\n",
    "\n",
    "        --> High lift suggests a meaningful, non-random relationship.\n",
    "\n",
    "        --> Useful for strategic bundling or cross-selling of products.-"
   ]
  },
  {
   "cell_type": "markdown",
   "id": "132c4c80-05bf-4de9-9435-bd82f52740c3",
   "metadata": {},
   "source": [
    "### (e) Provide business insights from discovered rules"
   ]
  },
  {
   "cell_type": "markdown",
   "id": "edef7446-2269-4e7e-94b1-2e520d463a28",
   "metadata": {},
   "source": [
    "### Based on the discovered rules:\n",
    "1- Cross-Selling Opportunities:\n",
    "\n",
    "  --> Items frequently purchased together (e.g., {Gift Bag} → {Wrapping Paper}) can be bundled to increase sales.\n",
    "\n",
    "2- Inventory Management:\n",
    "\n",
    "  --> High-lift rules highlight products with strong associations, helping optimize stock placement.\n",
    "\n",
    "3- Promotional Strategies:\n",
    "\n",
    "   --> Create promotions targeting items in high-confidence rules to drive sales (e.g., discounts on {Paper Garland} with {Paper Lantern}).\n",
    "\n",
    "4- Personalized Recommendations:\n",
    "\n",
    "  --> Use the rules to recommend related products in e-commerce platforms.\n"
   ]
  }
 ],
 "metadata": {
  "kernelspec": {
   "display_name": "Python 3 (ipykernel)",
   "language": "python",
   "name": "python3"
  },
  "language_info": {
   "codemirror_mode": {
    "name": "ipython",
    "version": 3
   },
   "file_extension": ".py",
   "mimetype": "text/x-python",
   "name": "python",
   "nbconvert_exporter": "python",
   "pygments_lexer": "ipython3",
   "version": "3.12.2"
  }
 },
 "nbformat": 4,
 "nbformat_minor": 5
}
